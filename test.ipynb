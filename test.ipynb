{
 "cells": [
  {
   "cell_type": "code",
   "execution_count": 1,
   "metadata": {},
   "outputs": [],
   "source": [
    "import numpy as np\n",
    "import dlib\n",
    "import eos\n",
    "import cv2"
   ]
  },
  {
   "cell_type": "code",
   "execution_count": 21,
   "metadata": {},
   "outputs": [],
   "source": [
    "detector = dlib.get_frontal_face_detector()\n",
    "shape_predictor = dlib.shape_predictor('res/68.dat')\n",
    "img = cv2.imread('Junwon.jpg')"
   ]
  },
  {
   "cell_type": "code",
   "execution_count": 26,
   "metadata": {},
   "outputs": [
    {
     "output_type": "error",
     "ename": "TabError",
     "evalue": "inconsistent use of tabs and spaces in indentation (<ipython-input-26-4955129d96a6>, line 13)",
     "traceback": [
      "\u001b[0;36m  File \u001b[0;32m\"<ipython-input-26-4955129d96a6>\"\u001b[0;36m, line \u001b[0;32m13\u001b[0m\n\u001b[0;31m    landmarks_list_2.append((shape.part(i).x, shape.part(i).y))\u001b[0m\n\u001b[0m                                                               ^\u001b[0m\n\u001b[0;31mTabError\u001b[0m\u001b[0;31m:\u001b[0m inconsistent use of tabs and spaces in indentation\n"
     ]
    }
   ],
   "source": [
    "boxes = detector(img)\n",
    "landmarks = []\n",
    "\n",
    "landmarks_list_2 = []\n",
    "for box in boxes:\n",
    "    shape = shape_predictor(img, box)\n",
    "    index = 1\n",
    "    for part in shape.parts():\n",
    "        landmarks.append(eos.core.Landmark(str(index),[float(part.y),float(part.x)]))\n",
    "        index +=1\n",
    "        \n",
    "    for i in range(0, shape.num_parts):\n",
    "        landmarks_list_2.append((shape.part(i).x, shape.part(i).y))\n",
    "\n",
    "\t# for each landmark, plot and write numbe\n",
    "    for landmark_num, xy in enumerate(landmarks_list_2, start = 1):\n",
    "\t\tcv2.circle(img2, (xy[0], xy[1]), 12, (168, 0, 20), -1)\n",
    "\t\tcv2.putText(img2, str(landmark_num),(xy[0]-7,xy[1]+5), cv2.FONT_HERSHEY_SIMPLEX, 0.4,(255,255,255), 1)\tfor i in range(0, landmarks.num_parts):\n",
    "\t\tlandmarks_list_2.append((landmarks.part(i).x, landmarks.part(i).y))\n"
   ]
  },
  {
   "cell_type": "code",
   "execution_count": 23,
   "metadata": {
    "tags": []
   },
   "outputs": [
    {
     "output_type": "execute_result",
     "data": {
      "text/plain": "1"
     },
     "metadata": {},
     "execution_count": 23
    }
   ],
   "source": [
    "len(lp)"
   ]
  },
  {
   "cell_type": "code",
   "execution_count": 13,
   "metadata": {},
   "outputs": [],
   "source": [
    "model = eos.morphablemodel.load_model(\"res/sfm_shape_3448.bin\")\n",
    "blendshapes = eos.morphablemodel.load_blendshapes(\"res/expression_blendshapes_3448.bin\")\n",
    "morphablemodel_with_expressions = eos.morphablemodel.MorphableModel(\n",
    "    model.get_shape_model(), \n",
    "    blendshapes,\n",
    "    color_model=eos.morphablemodel.PcaModel(),\n",
    "    texture_coordinates=model.get_texture_coordinates()\n",
    ")\n",
    "landmark_mapper = eos.core.LandmarkMapper('res/ibug_to_sfm.txt')\n",
    "edge_topology = eos.morphablemodel.load_edge_topology('res/sfm_3448_edge_topology.json')\n",
    "contour_landmarks = eos.fitting.ContourLandmarks.load('res/ibug_to_sfm.txt')\n",
    "model_contour = eos.fitting.ModelContour.load('res/sfm_model_contours.json')"
   ]
  },
  {
   "cell_type": "code",
   "execution_count": 14,
   "metadata": {
    "tags": []
   },
   "outputs": [
    {
     "output_type": "stream",
     "name": "stdout",
     "text": "4096 2734\n"
    }
   ],
   "source": [
    "h,w = img.shape[:2]\n",
    "print(h,w)"
   ]
  },
  {
   "cell_type": "code",
   "execution_count": 15,
   "metadata": {},
   "outputs": [],
   "source": [
    "(mesh, pose, shape_coeffs, blendshape_coeffs) = eos.fitting.fit_shape_and_pose(morphablemodel_with_expressions,\n",
    "        landmarks, landmark_mapper, w, h, edge_topology, contour_landmarks, model_contour)"
   ]
  },
  {
   "cell_type": "code",
   "execution_count": 18,
   "metadata": {},
   "outputs": [],
   "source": [
    "isomap = eos.render.extract_texture(mesh, pose, img)"
   ]
  },
  {
   "cell_type": "code",
   "execution_count": 20,
   "metadata": {},
   "outputs": [
    {
     "output_type": "execute_result",
     "data": {
      "text/plain": "True"
     },
     "metadata": {},
     "execution_count": 20
    }
   ],
   "source": [
    "cv2.imwrite(\"isomap.png\", isomap)"
   ]
  },
  {
   "cell_type": "code",
   "execution_count": null,
   "metadata": {},
   "outputs": [],
   "source": []
  }
 ],
 "metadata": {
  "language_info": {
   "codemirror_mode": {
    "name": "ipython",
    "version": 3
   },
   "file_extension": ".py",
   "mimetype": "text/x-python",
   "name": "python",
   "nbconvert_exporter": "python",
   "pygments_lexer": "ipython3",
   "version": "3.8.2-final"
  },
  "orig_nbformat": 2,
  "kernelspec": {
   "name": "python38164bitb79b5d2709ad4397b1c07b5ae3722fd1",
   "display_name": "Python 3.8.1 64-bit"
  }
 },
 "nbformat": 4,
 "nbformat_minor": 2
}